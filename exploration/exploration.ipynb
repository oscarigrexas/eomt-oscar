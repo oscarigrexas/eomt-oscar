{
 "cells": [
  {
   "cell_type": "code",
   "execution_count": 23,
   "metadata": {},
   "outputs": [],
   "source": [
    "import numpy as np\n",
    "import pandas as pd\n",
    "import matplotlib.pyplot as plt\n",
    "from matplotlib import rc\n",
    "import moleculetools as mt\n",
    "import seaborn as sns\n",
    "\n",
    "sns.set_style(style='whitegrid', rc={'font.family':'sans-serif', 'font.sans-serif':['Helvetica Neue'], 'font.weight':'light', 'font.size':9})\n",
    "sns.set_context(\"paper\", font_scale=0.8, rc={\"font.size\":10, \"axes.labelsize\":6})\n",
    "rc('font', **{'family':'sans-serif', 'sans-serif':['Helvetica Neue'], 'weight':'light', 'size':10})\n",
    "plt.rcParams['pdf.fonttype'] = 42\n",
    "plt.rcParams['lines.linewidth'] = 1\n",
    "plt.rcParams['lines.markeredgewidth'] = 0\n",
    "plt.rcParams['lines.markersize'] = 4.5\n",
    "plt.rcParams['lines.markeredgecolor'] = (0, 0, 0, 0)\n",
    "\n",
    "%matplotlib inline\n",
    "\n",
    "#print(plt.rcParams.keys())"
   ]
  },
  {
   "cell_type": "markdown",
   "metadata": {},
   "source": [
    "# Style and function definitions"
   ]
  },
  {
   "cell_type": "code",
   "execution_count": 24,
   "metadata": {},
   "outputs": [],
   "source": [
    "def read_palette(palette_file):\n",
    "    color_dict = {}\n",
    "    with open(palette_file, 'r') as open_file:\n",
    "        for line in open_file.readlines():\n",
    "            if line[0] == '$':\n",
    "                color_name = line.split(':')[0][1:]\n",
    "                rgba_str = line.split(': rgba')[1][1:-3]\n",
    "                rgb_values = rgba_str.split(', ')[:-1]\n",
    "                norm_rgb_values = [float(x)/255 for x in rgb_values]\n",
    "                color_dict[color_name] = norm_rgb_values\n",
    "    return color_dict\n",
    "                \n",
    "\n",
    "colors = read_palette('palettes.scss')\n",
    "\n",
    "sys_colors = {\n",
    "    's':colors['color7'],\n",
    "    'se':colors['color9'],\n",
    "    'as':colors['color5'],\n",
    "    'asn':colors['color4'],\n",
    "    'p':colors['color3'],\n",
    "    'pn':colors['color2'],\n",
    "}"
   ]
  },
  {
   "cell_type": "code",
   "execution_count": 25,
   "metadata": {},
   "outputs": [],
   "source": [
    "def cm2inch(value):\n",
    "    return value/2.54\n",
    "\n",
    "def new_figure(height=5, type='body'):\n",
    "    if type == 'body':\n",
    "        width = 10.75\n",
    "    elif type == 'margin':\n",
    "        width = 5\n",
    "    elif type == 'wide':\n",
    "        width = 16.5\n",
    "    else:\n",
    "        width = 10.75\n",
    "    fig = plt.figure(figsize=(cm2inch(width), cm2inch(height)))\n",
    "    fig.set_tight_layout(True)\n",
    "    return fig\n",
    "\n",
    "def tuftefy(ax):\n",
    "    ax.legend(frameon=False) # remove legend outlines\n",
    "    \n",
    "    ax.spines[\"top\"].set_visible(False)\n",
    "    ax.spines[\"right\"].set_visible(False)\n",
    "    ax.spines[\"left\"].set_visible(True)\n",
    "    ax.spines[\"bottom\"].set_visible(True)\n",
    "    #ax.spines[\"bottom\"].set_color('grey')\n",
    "    #ax.grid(color=\"w\", alpha=0.5)\n",
    "    ax.get_yaxis().grid(False)\n",
    "    ax.get_xaxis().grid(False)\n",
    "    ax.tick_params(axis='both', which='major', pad=0)\n",
    "    ax.edgecolor = 1\n",
    "    ax.edgewidth = 0.5\n",
    "    \n",
    "def save_figure(figure, name):\n",
    "    figure.savefig('../images/{}'.format(name), dpi=300)"
   ]
  },
  {
   "cell_type": "markdown",
   "metadata": {},
   "source": [
    "# Sulflower stability"
   ]
  },
  {
   "cell_type": "code",
   "execution_count": 26,
   "metadata": {},
   "outputs": [
    {
     "data": {
      "text/html": [
       "<div>\n",
       "<style scoped>\n",
       "    .dataframe tbody tr th:only-of-type {\n",
       "        vertical-align: middle;\n",
       "    }\n",
       "\n",
       "    .dataframe tbody tr th {\n",
       "        vertical-align: top;\n",
       "    }\n",
       "\n",
       "    .dataframe thead th {\n",
       "        text-align: right;\n",
       "    }\n",
       "</style>\n",
       "<table border=\"1\" class=\"dataframe\">\n",
       "  <thead>\n",
       "    <tr style=\"text-align: right;\">\n",
       "      <th></th>\n",
       "      <th>file</th>\n",
       "      <th>scf_energy</th>\n",
       "      <th>scf_zpve</th>\n",
       "      <th>enthalpy</th>\n",
       "      <th>ts</th>\n",
       "      <th>free_energy</th>\n",
       "    </tr>\n",
       "  </thead>\n",
       "  <tbody>\n",
       "    <tr>\n",
       "      <td>0</td>\n",
       "      <td>s05</td>\n",
       "      <td>-1.487611e+06</td>\n",
       "      <td>-1.487569e+06</td>\n",
       "      <td>-1.487562e+06</td>\n",
       "      <td>30.413498</td>\n",
       "      <td>-1.487592e+06</td>\n",
       "    </tr>\n",
       "    <tr>\n",
       "      <td>1</td>\n",
       "      <td>s06</td>\n",
       "      <td>-1.785226e+06</td>\n",
       "      <td>-1.785174e+06</td>\n",
       "      <td>-1.785165e+06</td>\n",
       "      <td>33.293766</td>\n",
       "      <td>-1.785199e+06</td>\n",
       "    </tr>\n",
       "    <tr>\n",
       "      <td>2</td>\n",
       "      <td>s07</td>\n",
       "      <td>-2.082821e+06</td>\n",
       "      <td>-2.082760e+06</td>\n",
       "      <td>-2.082750e+06</td>\n",
       "      <td>35.991429</td>\n",
       "      <td>-2.082786e+06</td>\n",
       "    </tr>\n",
       "    <tr>\n",
       "      <td>3</td>\n",
       "      <td>s08</td>\n",
       "      <td>-2.380426e+06</td>\n",
       "      <td>-2.380356e+06</td>\n",
       "      <td>-2.380344e+06</td>\n",
       "      <td>39.693734</td>\n",
       "      <td>-2.380384e+06</td>\n",
       "    </tr>\n",
       "    <tr>\n",
       "      <td>4</td>\n",
       "      <td>s09</td>\n",
       "      <td>-2.677983e+06</td>\n",
       "      <td>-2.677904e+06</td>\n",
       "      <td>-2.677891e+06</td>\n",
       "      <td>43.242927</td>\n",
       "      <td>-2.677934e+06</td>\n",
       "    </tr>\n",
       "    <tr>\n",
       "      <td>5</td>\n",
       "      <td>s10</td>\n",
       "      <td>-2.975500e+06</td>\n",
       "      <td>-2.975413e+06</td>\n",
       "      <td>-2.975399e+06</td>\n",
       "      <td>45.791243</td>\n",
       "      <td>-2.975445e+06</td>\n",
       "    </tr>\n",
       "    <tr>\n",
       "      <td>6</td>\n",
       "      <td>s11</td>\n",
       "      <td>-3.273012e+06</td>\n",
       "      <td>-3.272916e+06</td>\n",
       "      <td>-3.272901e+06</td>\n",
       "      <td>48.507103</td>\n",
       "      <td>-3.272949e+06</td>\n",
       "    </tr>\n",
       "    <tr>\n",
       "      <td>7</td>\n",
       "      <td>s12</td>\n",
       "      <td>-3.570541e+06</td>\n",
       "      <td>-3.570436e+06</td>\n",
       "      <td>-3.570419e+06</td>\n",
       "      <td>51.980995</td>\n",
       "      <td>-3.570471e+06</td>\n",
       "    </tr>\n",
       "  </tbody>\n",
       "</table>\n",
       "</div>"
      ],
      "text/plain": [
       "  file    scf_energy      scf_zpve      enthalpy         ts   free_energy\n",
       "0  s05 -1.487611e+06 -1.487569e+06 -1.487562e+06  30.413498 -1.487592e+06\n",
       "1  s06 -1.785226e+06 -1.785174e+06 -1.785165e+06  33.293766 -1.785199e+06\n",
       "2  s07 -2.082821e+06 -2.082760e+06 -2.082750e+06  35.991429 -2.082786e+06\n",
       "3  s08 -2.380426e+06 -2.380356e+06 -2.380344e+06  39.693734 -2.380384e+06\n",
       "4  s09 -2.677983e+06 -2.677904e+06 -2.677891e+06  43.242927 -2.677934e+06\n",
       "5  s10 -2.975500e+06 -2.975413e+06 -2.975399e+06  45.791243 -2.975445e+06\n",
       "6  s11 -3.273012e+06 -3.272916e+06 -3.272901e+06  48.507103 -3.272949e+06\n",
       "7  s12 -3.570541e+06 -3.570436e+06 -3.570419e+06  51.980995 -3.570471e+06"
      ]
     },
     "execution_count": 26,
     "metadata": {},
     "output_type": "execute_result"
    }
   ],
   "source": [
    "edf = pd.read_csv(\"/Users/oscar/Dropbox/s3/flowers/sulflower-stabilities/TABLE\", delim_whitespace=True)\n",
    "edf"
   ]
  },
  {
   "cell_type": "code",
   "execution_count": 27,
   "metadata": {},
   "outputs": [
    {
     "name": "stderr",
     "output_type": "stream",
     "text": [
      "No handles with labels found to put in legend.\n"
     ]
    },
    {
     "data": {
      "image/png": "[encoded data removed]",
      "text/plain": [
       "<Figure size 141.732x99.2126 with 1 Axes>"
      ]
     },
     "metadata": {
      "needs_background": "light"
     },
     "output_type": "display_data"
    }
   ],
   "source": [
    "n0 = [5, 6, 7, 9, 11]\n",
    "energies0 = [30, 15, 6, 0, 7.5]\n",
    "\n",
    "n1 = [8, 10, 12]\n",
    "energies1 = [0, 4.8, 8.5]\n",
    "\n",
    "f = new_figure(height=3.5, type='margin')\n",
    "\n",
    "ax = sns.scatterplot(x=n0, y=energies0, color=colors['color1'], marker='D', edgecolor=None)\n",
    "ax = sns.scatterplot(x=n1, y=energies1, color=colors['color8'], marker='D', edgecolor=None)\n",
    "\n",
    "ax.set_yticks([0, 10, 20, 30])\n",
    "ax.set_xticks(range(5, 13))\n",
    "ax.set_xlabel('n')\n",
    "ax.set_ylabel(r'Energy (kcal mol$^{-1}$)')\n",
    "tuftefy(ax)\n",
    "\n",
    "save_figure(f, 'sulflower-strain.pdf')"
   ]
  },
  {
   "cell_type": "markdown",
   "metadata": {},
   "source": [
    "# Stability study"
   ]
  },
  {
   "cell_type": "code",
   "execution_count": 10,
   "metadata": {},
   "outputs": [
    {
     "data": {
      "text/html": [
       "<div>\n",
       "<style scoped>\n",
       "    .dataframe tbody tr th:only-of-type {\n",
       "        vertical-align: middle;\n",
       "    }\n",
       "\n",
       "    .dataframe tbody tr th {\n",
       "        vertical-align: top;\n",
       "    }\n",
       "\n",
       "    .dataframe thead th {\n",
       "        text-align: right;\n",
       "    }\n",
       "</style>\n",
       "<table border=\"1\" class=\"dataframe\">\n",
       "  <thead>\n",
       "    <tr style=\"text-align: right;\">\n",
       "      <th></th>\n",
       "      <th>file</th>\n",
       "      <th>scf_energy</th>\n",
       "      <th>scf_zpve</th>\n",
       "      <th>enthalpy</th>\n",
       "      <th>ts</th>\n",
       "      <th>free_energy</th>\n",
       "    </tr>\n",
       "  </thead>\n",
       "  <tbody>\n",
       "    <tr>\n",
       "      <td>0</td>\n",
       "      <td>as-ring</td>\n",
       "      <td>-1.499876e+06</td>\n",
       "      <td>-1.499835e+06</td>\n",
       "      <td>-1.499831e+06</td>\n",
       "      <td>21.760143</td>\n",
       "      <td>-1.499853e+06</td>\n",
       "    </tr>\n",
       "    <tr>\n",
       "      <td>1</td>\n",
       "      <td>as</td>\n",
       "      <td>-1.402793e+06</td>\n",
       "      <td>-1.402793e+06</td>\n",
       "      <td>-1.402792e+06</td>\n",
       "      <td>11.995470</td>\n",
       "      <td>-1.402804e+06</td>\n",
       "    </tr>\n",
       "    <tr>\n",
       "      <td>2</td>\n",
       "      <td>as08</td>\n",
       "      <td>-1.160505e+07</td>\n",
       "      <td>-1.160499e+07</td>\n",
       "      <td>-1.160498e+07</td>\n",
       "      <td>46.770785</td>\n",
       "      <td>-1.160502e+07</td>\n",
       "    </tr>\n",
       "    <tr>\n",
       "      <td>3</td>\n",
       "      <td>as10</td>\n",
       "      <td>-1.450628e+07</td>\n",
       "      <td>-1.450620e+07</td>\n",
       "      <td>-1.450619e+07</td>\n",
       "      <td>56.694846</td>\n",
       "      <td>-1.450624e+07</td>\n",
       "    </tr>\n",
       "    <tr>\n",
       "      <td>4</td>\n",
       "      <td>as12</td>\n",
       "      <td>-1.740752e+07</td>\n",
       "      <td>-1.740742e+07</td>\n",
       "      <td>-1.740740e+07</td>\n",
       "      <td>64.999933</td>\n",
       "      <td>-1.740747e+07</td>\n",
       "    </tr>\n",
       "  </tbody>\n",
       "</table>\n",
       "</div>"
      ],
      "text/plain": [
       "      file    scf_energy      scf_zpve      enthalpy         ts   free_energy\n",
       "0  as-ring -1.499876e+06 -1.499835e+06 -1.499831e+06  21.760143 -1.499853e+06\n",
       "1       as -1.402793e+06 -1.402793e+06 -1.402792e+06  11.995470 -1.402804e+06\n",
       "2     as08 -1.160505e+07 -1.160499e+07 -1.160498e+07  46.770785 -1.160502e+07\n",
       "3     as10 -1.450628e+07 -1.450620e+07 -1.450619e+07  56.694846 -1.450624e+07\n",
       "4     as12 -1.740752e+07 -1.740742e+07 -1.740740e+07  64.999933 -1.740747e+07"
      ]
     },
     "execution_count": 10,
     "metadata": {},
     "output_type": "execute_result"
    }
   ],
   "source": [
    "edf = pd.read_csv(\"/Users/oscar/Dropbox/s3/flowers/stabilities/TABLE\", delim_whitespace=True)\n",
    "edf.head()"
   ]
  },
  {
   "cell_type": "code",
   "execution_count": 11,
   "metadata": {},
   "outputs": [
    {
     "data": {
      "image/png": "[encoded data removed]",
      "text/plain": [
       "<Figure size 304.724x170.079 with 1 Axes>"
      ]
     },
     "metadata": {
      "needs_background": "light"
     },
     "output_type": "display_data"
    }
   ],
   "source": [
    "zero = np.zeros(3)\n",
    "\n",
    "energies = {\n",
    "    'S':zero,\n",
    "    'Se':zero,\n",
    "    'As':zero,\n",
    "    'AsN':zero,\n",
    "    'P':zero,\n",
    "    'PN':zero\n",
    "}\n",
    "\n",
    "for key in energies.keys():\n",
    "    regex_string = '^{system}[0-9]{{2}}$'.format(system=key.lower())\n",
    "    energies[key] = edf[edf['file'].str.contains(regex_string, regex=True)]['free_energy'].to_numpy()\n",
    "\n",
    "min_energy = sorted(sum([list(value) for value in energies.values()], []))[0]\n",
    "    \n",
    "x = [1, 2, 3]\n",
    "f = new_figure(height=6, type='body')\n",
    "\n",
    "for family in energies.keys():\n",
    "    ax = sns.lineplot(x=x, y=energies[family] - min_energy, color=sys_colors[family.lower()],\n",
    "                      label=family, marker='D')\n",
    "\n",
    "ax.set_xticks([1, 2, 3])\n",
    "ax.set_xticklabels(['08', '10', '12'])\n",
    "ax.set_xlabel('n')\n",
    "ax.set_ylabel(r'Energy (kcal mol$^{-1}$)')\n",
    "tuftefy(ax)\n",
    "\n",
    "save_figure(f, 'sunflower-stability.pdf')"
   ]
  },
  {
   "cell_type": "markdown",
   "metadata": {},
   "source": [
    "# Bond length study"
   ]
  },
  {
   "cell_type": "code",
   "execution_count": 12,
   "metadata": {},
   "outputs": [
    {
     "name": "stdout",
     "output_type": "stream",
     "text": [
      "& ring & 1.467 & nan & 1.359 & 0.000 & 1.794 & 0.001 \\\\\n",
      "& 08 & 1.410 & 0.048 & 1.445 & 0.000 & 1.764 & 0.006 \\\\\n",
      "& 10 & 1.431 & 0.000 & 1.471 & 0.000 & 1.736 & 0.000 \\\\\n",
      "& 12 & 1.429 & 0.045 & 1.462 & 0.002 & 1.747 & 0.005 \\\\\n"
     ]
    }
   ],
   "source": [
    "bond_path = \"/Users/oscar/Dropbox/s3/flowers/bond-lengths/\"\n",
    "\n",
    "def get_atom_categories(mol_id):\n",
    "    \"\"\"\n",
    "    Identifies the category of each atom in a sulflower structure, dividing them in:\n",
    "    - X0 atom in the inside ring\n",
    "    - X1: outside heteroatom\n",
    "    - X2: atom between two X1 and an X0\n",
    "    \"\"\"\n",
    "    els, coords = mt.read_xyz(bond_path + mol_id + '.xyz')\n",
    "    structure = mt.Structure(els, coords)\n",
    "    structure.find_bonds()\n",
    "    \n",
    "    atom_list = list(range(structure.natoms))\n",
    "    atom_categories = {}\n",
    "    \n",
    "    # Identify atoms that are bonded to only 2 other atoms: these are X1\n",
    "    atom_occurrences = [bond['atoms'] for bond in structure.bonds]\n",
    "    atom_occurrences = list(sum(atom_occurrences, ()))\n",
    "    \n",
    "    for atom in range(structure.natoms):\n",
    "        appearances = atom_occurrences.count(atom)\n",
    "        if appearances == 2:\n",
    "            atom_categories[atom] = 'X1'\n",
    "            atom_list.remove(atom)\n",
    "        else:\n",
    "            atom_categories[atom] = None\n",
    "        \n",
    "    # Identify which of the remaining atoms are bonded to X1 atoms\n",
    "    x1_atoms = [atom for atom in atom_categories.keys() if atom_categories[atom] == 'X1']\n",
    "    for atom in atom_list:\n",
    "        bonded_atoms = [bond['atoms'] for bond in structure.bonds if atom in bond['atoms']]\n",
    "        bonded_atoms = set(sum(bonded_atoms, ()))\n",
    "        if any(atom in x1_atoms for atom in bonded_atoms):\n",
    "            atom_categories[atom] = 'X2'\n",
    "        else:\n",
    "            atom_categories[atom] = 'X0'\n",
    "        \n",
    "    return atom_categories\n",
    "\n",
    "def get_bond_df(mol_id):\n",
    "    \"\"\"\n",
    "    Identifies the category of each bond in a sulflower structure:\n",
    "    - O: outside bond between an X1 and an X2\n",
    "    - M: middle bond between an X0 and an X1\n",
    "    - I: inside bond between X0s\n",
    "    \"\"\"\n",
    "    els, coords = mt.read_xyz(bond_path + mol_id + '.xyz')\n",
    "    structure = mt.Structure(els, coords)\n",
    "    structure.find_bonds()\n",
    "    bond_types = {}\n",
    "    for bond in structure.bonds:\n",
    "        bond_types.setdefault(bond['elements'], []).append(bond)\n",
    "    df = pd.DataFrame(structure.bonds)\n",
    "    \n",
    "    cats = get_atom_categories(mol_id)\n",
    "    df['atom_types'] = df['atoms'].apply(lambda pair:(cats[pair[0]], cats[pair[1]]))\n",
    "    bond_type_dict = {('X0', 'X0'):'I', ('X0', 'X2'):'M', ('X1', 'X2'):'O'}\n",
    "    df['bond_types'] = df['atom_types'].apply(lambda atom_types:bond_type_dict[tuple(sorted(atom_types))])\n",
    "    \n",
    "    return df\n",
    "\n",
    "def get_bond_stats(mol_id):\n",
    "    df = get_bond_df(mol_id)\n",
    "    df = df[df['elements'] != ('C', 'H')] # Quick fix to prevent bonds with H in rings\n",
    "    means = df.groupby('bond_types').mean()\n",
    "    stds = df.groupby('bond_types').std()\n",
    "    tuple_list = list(zip(means['distance'], stds['distance']))\n",
    "    distance_list = list(sum(tuple_list, ()))\n",
    "    rounded_list = [np.around(x, 3) for x in distance_list]\n",
    "    return rounded_list\n",
    "\n",
    "def get_system_stats(sys_id):\n",
    "    n_petals = ['ring', '08', '10', '12']\n",
    "    mols = [x.format(sys_id) for x in ['{}-ring', '{}08', '{}10', '{}12']]\n",
    "    for i, mol in enumerate(mols):\n",
    "        line = \"& {} & {:.3f} & {:.3f} & {:.3f} & {:.3f} & {:.3f} & {:.3f} \\\\\\\\\".format(n_petals[i], *get_bond_stats(mol))\n",
    "        print(line)\n",
    "    \n",
    "get_system_stats('p')"
   ]
  },
  {
   "cell_type": "code",
   "execution_count": 13,
   "metadata": {},
   "outputs": [
    {
     "ename": "KeyError",
     "evalue": "'black'",
     "output_type": "error",
     "traceback": [
      "\u001b[0;31m---------------------------------------------------------------------------\u001b[0m",
      "\u001b[0;31mKeyError\u001b[0m                                  Traceback (most recent call last)",
      "\u001b[0;32m<ipython-input-13-5720a62a8ccd>\u001b[0m in \u001b[0;36m<module>\u001b[0;34m\u001b[0m\n\u001b[1;32m      6\u001b[0m \u001b[0;34m\u001b[0m\u001b[0m\n\u001b[1;32m      7\u001b[0m \u001b[0mf\u001b[0m \u001b[0;34m=\u001b[0m \u001b[0mnew_figure\u001b[0m\u001b[0;34m(\u001b[0m\u001b[0mheight\u001b[0m\u001b[0;34m=\u001b[0m\u001b[0;36m5\u001b[0m\u001b[0;34m,\u001b[0m \u001b[0mtype\u001b[0m\u001b[0;34m=\u001b[0m\u001b[0;34m'margin'\u001b[0m\u001b[0;34m)\u001b[0m\u001b[0;34m\u001b[0m\u001b[0;34m\u001b[0m\u001b[0m\n\u001b[0;32m----> 8\u001b[0;31m \u001b[0max\u001b[0m \u001b[0;34m=\u001b[0m \u001b[0msns\u001b[0m\u001b[0;34m.\u001b[0m\u001b[0mdistplot\u001b[0m\u001b[0;34m(\u001b[0m\u001b[0ma\u001b[0m\u001b[0;34m=\u001b[0m\u001b[0mbonds08\u001b[0m\u001b[0;34m[\u001b[0m\u001b[0;34m'distance'\u001b[0m\u001b[0;34m]\u001b[0m\u001b[0;34m,\u001b[0m \u001b[0mbins\u001b[0m\u001b[0;34m=\u001b[0m\u001b[0mbins\u001b[0m\u001b[0;34m,\u001b[0m \u001b[0mcolor\u001b[0m\u001b[0;34m=\u001b[0m\u001b[0mcolors\u001b[0m\u001b[0;34m[\u001b[0m\u001b[0;34m'black'\u001b[0m\u001b[0;34m]\u001b[0m\u001b[0;34m,\u001b[0m \u001b[0mkde\u001b[0m\u001b[0;34m=\u001b[0m\u001b[0;32mFalse\u001b[0m\u001b[0;34m,\u001b[0m \u001b[0mrug\u001b[0m\u001b[0;34m=\u001b[0m\u001b[0;32mTrue\u001b[0m\u001b[0;34m,\u001b[0m \u001b[0mhist\u001b[0m\u001b[0;34m=\u001b[0m\u001b[0;32mTrue\u001b[0m\u001b[0;34m,\u001b[0m \u001b[0mhist_kws\u001b[0m\u001b[0;34m=\u001b[0m\u001b[0mdict\u001b[0m\u001b[0;34m(\u001b[0m\u001b[0malpha\u001b[0m\u001b[0;34m=\u001b[0m\u001b[0malpha\u001b[0m\u001b[0;34m)\u001b[0m\u001b[0;34m)\u001b[0m\u001b[0;34m\u001b[0m\u001b[0;34m\u001b[0m\u001b[0m\n\u001b[0m\u001b[1;32m      9\u001b[0m \u001b[0max\u001b[0m \u001b[0;34m=\u001b[0m \u001b[0msns\u001b[0m\u001b[0;34m.\u001b[0m\u001b[0mdistplot\u001b[0m\u001b[0;34m(\u001b[0m\u001b[0ma\u001b[0m\u001b[0;34m=\u001b[0m\u001b[0mbonds10\u001b[0m\u001b[0;34m[\u001b[0m\u001b[0;34m'distance'\u001b[0m\u001b[0;34m]\u001b[0m\u001b[0;34m,\u001b[0m \u001b[0mbins\u001b[0m\u001b[0;34m=\u001b[0m\u001b[0mbins\u001b[0m\u001b[0;34m,\u001b[0m \u001b[0mcolor\u001b[0m\u001b[0;34m=\u001b[0m\u001b[0mcolors\u001b[0m\u001b[0;34m[\u001b[0m\u001b[0;34m'd_orange'\u001b[0m\u001b[0;34m]\u001b[0m\u001b[0;34m,\u001b[0m \u001b[0mkde\u001b[0m\u001b[0;34m=\u001b[0m\u001b[0;32mFalse\u001b[0m\u001b[0;34m,\u001b[0m \u001b[0mrug\u001b[0m\u001b[0;34m=\u001b[0m\u001b[0;32mTrue\u001b[0m\u001b[0;34m,\u001b[0m \u001b[0mhist\u001b[0m\u001b[0;34m=\u001b[0m\u001b[0;32mTrue\u001b[0m\u001b[0;34m,\u001b[0m \u001b[0mhist_kws\u001b[0m\u001b[0;34m=\u001b[0m\u001b[0mdict\u001b[0m\u001b[0;34m(\u001b[0m\u001b[0malpha\u001b[0m\u001b[0;34m=\u001b[0m\u001b[0malpha\u001b[0m\u001b[0;34m)\u001b[0m\u001b[0;34m)\u001b[0m\u001b[0;34m\u001b[0m\u001b[0;34m\u001b[0m\u001b[0m\n\u001b[1;32m     10\u001b[0m \u001b[0;31m#ax = sns.distplot(a=bonds['distance'][bonds['elements'] == ('C', 'C')], bins=5, color=colors['black'], kde=True, rug=True, hist=False)\u001b[0m\u001b[0;34m\u001b[0m\u001b[0;34m\u001b[0m\u001b[0;34m\u001b[0m\u001b[0m\n",
      "\u001b[0;31mKeyError\u001b[0m: 'black'"
     ]
    },
    {
     "data": {
      "text/plain": [
       "<Figure size 141.732x141.732 with 0 Axes>"
      ]
     },
     "metadata": {},
     "output_type": "display_data"
    }
   ],
   "source": [
    "bonds08 = get_bond_df('as08')\n",
    "bonds10 = get_bond_df('as10')\n",
    "\n",
    "bins = np.linspace(1.35, 1.95, 10)\n",
    "alpha = 0.7\n",
    "\n",
    "f = new_figure(height=5, type='margin')\n",
    "ax = sns.distplot(a=bonds08['distance'], bins=bins, color=colors['black'], kde=False, rug=True, hist=True, hist_kws=dict(alpha=alpha))\n",
    "ax = sns.distplot(a=bonds10['distance'], bins=bins, color=colors['d_orange'], kde=False, rug=True, hist=True, hist_kws=dict(alpha=alpha))\n",
    "#ax = sns.distplot(a=bonds['distance'][bonds['elements'] == ('C', 'C')], bins=5, color=colors['black'], kde=True, rug=True, hist=False)\n",
    "#ax = sns.distplot(a=bonds['distance'][bonds['elements'] == ('C', 'As')], bins=5, color=colors['l_orange'], kde=True, rug=True, hist=False)\n",
    "tuftefy(ax)\n",
    "\n",
    "save_figure(f, 'hist-test.pdf')"
   ]
  },
  {
   "cell_type": "code",
   "execution_count": 8,
   "metadata": {},
   "outputs": [],
   "source": [
    "def distplot_with_hue(data=None, x=None, hue=None, row=None, col=None, legend=True, **kwargs):\n",
    "    _, bins = np.histogram(data[x].dropna())\n",
    "    g = sns.FacetGrid(data, hue=hue, row=row, col=col)\n",
    "    g.map(sns.distplot, x, **kwargs)\n",
    "    if legend and (hue is not None) and (hue not in [x, row, col]):\n",
    "        g.add_legend(title=hue) "
   ]
  },
  {
   "cell_type": "code",
   "execution_count": 9,
   "metadata": {},
   "outputs": [
    {
     "data": {
      "text/plain": [
       "<Figure size 141.732x141.732 with 0 Axes>"
      ]
     },
     "metadata": {},
     "output_type": "display_data"
    },
    {
     "data": {
      "image/png": "[encoded data removed]",
      "text/plain": [
       "<Figure size 268.344x216 with 1 Axes>"
      ]
     },
     "metadata": {
      "needs_background": "light"
     },
     "output_type": "display_data"
    },
    {
     "data": {
      "image/png": "[encoded data removed]",
      "text/plain": [
       "<Figure size 268.344x216 with 1 Axes>"
      ]
     },
     "metadata": {
      "needs_background": "light"
     },
     "output_type": "display_data"
    }
   ],
   "source": [
    "f = new_figure(height=5, type='margin')\n",
    "ax = distplot_with_hue(data=bonds08, x='distance', hue='elements', bins=bins)\n",
    "ax = distplot_with_hue(data=bonds10, x='distance', hue='elements', bins=bins)\n",
    "#ax = sns.distplot(a=bonds['distance'][bonds['elements'] == ('C', 'C')], bins=5, color=colors['black'], kde=True, rug=True, hist=False)\n",
    "#ax = sns.distplot(a=bonds['distance'][bonds['elements'] == ('C', 'As')], bins=5, color=colors['l_orange'], kde=True, rug=True, hist=False)\n",
    "#tuftefy(ax)"
   ]
  },
  {
   "cell_type": "code",
   "execution_count": 14,
   "metadata": {},
   "outputs": [
    {
     "data": {
      "text/html": [
       "<div>\n",
       "<style scoped>\n",
       "    .dataframe tbody tr th:only-of-type {\n",
       "        vertical-align: middle;\n",
       "    }\n",
       "\n",
       "    .dataframe tbody tr th {\n",
       "        vertical-align: top;\n",
       "    }\n",
       "\n",
       "    .dataframe thead th {\n",
       "        text-align: right;\n",
       "    }\n",
       "</style>\n",
       "<table border=\"1\" class=\"dataframe\">\n",
       "  <thead>\n",
       "    <tr style=\"text-align: right;\">\n",
       "      <th></th>\n",
       "      <th>atoms</th>\n",
       "      <th>elements</th>\n",
       "      <th>distance</th>\n",
       "      <th>label</th>\n",
       "    </tr>\n",
       "  </thead>\n",
       "  <tbody>\n",
       "    <tr>\n",
       "      <td>0</td>\n",
       "      <td>(0, 1)</td>\n",
       "      <td>(C, C)</td>\n",
       "      <td>1.481319</td>\n",
       "      <td>1</td>\n",
       "    </tr>\n",
       "    <tr>\n",
       "      <td>1</td>\n",
       "      <td>(0, 7)</td>\n",
       "      <td>(C, C)</td>\n",
       "      <td>1.387611</td>\n",
       "      <td>0</td>\n",
       "    </tr>\n",
       "    <tr>\n",
       "      <td>2</td>\n",
       "      <td>(0, 12)</td>\n",
       "      <td>(C, C)</td>\n",
       "      <td>1.448541</td>\n",
       "      <td>0</td>\n",
       "    </tr>\n",
       "    <tr>\n",
       "      <td>3</td>\n",
       "      <td>(1, 2)</td>\n",
       "      <td>(C, C)</td>\n",
       "      <td>1.387611</td>\n",
       "      <td>0</td>\n",
       "    </tr>\n",
       "    <tr>\n",
       "      <td>4</td>\n",
       "      <td>(1, 11)</td>\n",
       "      <td>(C, C)</td>\n",
       "      <td>1.448258</td>\n",
       "      <td>0</td>\n",
       "    </tr>\n",
       "  </tbody>\n",
       "</table>\n",
       "</div>"
      ],
      "text/plain": [
       "     atoms elements  distance  label\n",
       "0   (0, 1)   (C, C)  1.481319      1\n",
       "1   (0, 7)   (C, C)  1.387611      0\n",
       "2  (0, 12)   (C, C)  1.448541      0\n",
       "3   (1, 2)   (C, C)  1.387611      0\n",
       "4  (1, 11)   (C, C)  1.448258      0"
      ]
     },
     "execution_count": 14,
     "metadata": {},
     "output_type": "execute_result"
    }
   ],
   "source": [
    "bonds08.head()"
   ]
  },
  {
   "cell_type": "code",
   "execution_count": 13,
   "metadata": {},
   "outputs": [
    {
     "name": "stdout",
     "output_type": "stream",
     "text": [
      "<class 'pandas.core.frame.DataFrame'>\n",
      "RangeIndex: 32 entries, 0 to 31\n",
      "Data columns (total 4 columns):\n",
      "atoms       32 non-null object\n",
      "elements    32 non-null object\n",
      "distance    32 non-null float64\n",
      "label       32 non-null int64\n",
      "dtypes: float64(1), int64(1), object(2)\n",
      "memory usage: 1.1+ KB\n"
     ]
    }
   ],
   "source": [
    "bonds08.info()"
   ]
  },
  {
   "cell_type": "code",
   "execution_count": 12,
   "metadata": {},
   "outputs": [
    {
     "data": {
      "text/plain": [
       "<matplotlib.axes._subplots.AxesSubplot at 0x11ffaee48>"
      ]
     },
     "execution_count": 12,
     "metadata": {},
     "output_type": "execute_result"
    },
    {
     "data": {
      "image/png": "[encoded data removed]",
      "text/plain": [
       "<Figure size 432x288 with 1 Axes>"
      ]
     },
     "metadata": {
      "needs_background": "light"
     },
     "output_type": "display_data"
    }
   ],
   "source": [
    "sns.boxplot(data=bonds08, x='elements', y='distance')"
   ]
  }
 ],
 "metadata": {
  "kernelspec": {
   "display_name": "Python 3",
   "language": "python",
   "name": "python3"
  },
  "language_info": {
   "codemirror_mode": {
    "name": "ipython",
    "version": 3
   },
   "file_extension": ".py",
   "mimetype": "text/x-python",
   "name": "python",
   "nbconvert_exporter": "python",
   "pygments_lexer": "ipython3",
   "version": "3.7.3"
  }
 },
 "nbformat": 4,
 "nbformat_minor": 4
}
